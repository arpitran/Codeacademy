{
 "cells": [
  {
   "cell_type": "code",
   "execution_count": 58,
   "metadata": {},
   "outputs": [],
   "source": [
    "import sqlite3 as sql\n",
    "import pandas as pd\n",
    "from matplotlib import pyplot as plt"
   ]
  },
  {
   "cell_type": "code",
   "execution_count": 25,
   "metadata": {},
   "outputs": [],
   "source": [
    "chat = pd.read_csv(\"data/chat.csv\",header=None,\n",
    "                names=[\"time\",\"devide_id\",\"login\",\"channel\",\"country\",\"player\",\"game\"])\n",
    "stream = pd.read_csv(\"data/stream.csv\")\n"
   ]
  },
  {
   "cell_type": "code",
   "execution_count": 26,
   "metadata": {},
   "outputs": [
    {
     "data": {
      "text/html": [
       "<div>\n",
       "<style scoped>\n",
       "    .dataframe tbody tr th:only-of-type {\n",
       "        vertical-align: middle;\n",
       "    }\n",
       "\n",
       "    .dataframe tbody tr th {\n",
       "        vertical-align: top;\n",
       "    }\n",
       "\n",
       "    .dataframe thead th {\n",
       "        text-align: right;\n",
       "    }\n",
       "</style>\n",
       "<table border=\"1\" class=\"dataframe\">\n",
       "  <thead>\n",
       "    <tr style=\"text-align: right;\">\n",
       "      <th></th>\n",
       "      <th>time</th>\n",
       "      <th>devide_id</th>\n",
       "      <th>login</th>\n",
       "      <th>channel</th>\n",
       "      <th>country</th>\n",
       "      <th>player</th>\n",
       "      <th>game</th>\n",
       "    </tr>\n",
       "  </thead>\n",
       "  <tbody>\n",
       "    <tr>\n",
       "      <th>0</th>\n",
       "      <td>1/1/2015 18:45</td>\n",
       "      <td>70e2b95b5ac0d4c227e46966658d16b3e044996e</td>\n",
       "      <td>5c2f5c1f19a7738e16ed0be551d865e8a8fce71d</td>\n",
       "      <td>jerry</td>\n",
       "      <td>BY</td>\n",
       "      <td>NaN</td>\n",
       "      <td>Dota 2</td>\n",
       "    </tr>\n",
       "    <tr>\n",
       "      <th>1</th>\n",
       "      <td>1/1/2015 1:16</td>\n",
       "      <td>f2b9065b55fd80d6aa653ce989b489f4ec5198be</td>\n",
       "      <td>0d77740e4fb5ce77d94f9f6c8ef1f762990d0344</td>\n",
       "      <td>elaine</td>\n",
       "      <td>HK</td>\n",
       "      <td>NaN</td>\n",
       "      <td>Devil May Cry 4: Special Edition</td>\n",
       "    </tr>\n",
       "    <tr>\n",
       "      <th>2</th>\n",
       "      <td>1/1/2015 16:22</td>\n",
       "      <td>d448ba963d7e1023dd1b0a40b95d4f6611750692</td>\n",
       "      <td>77ab14c1fb815e1c369ba0cf7d4c56b4fe489997</td>\n",
       "      <td>frank</td>\n",
       "      <td>GB</td>\n",
       "      <td>iphone_t</td>\n",
       "      <td>League of Legends</td>\n",
       "    </tr>\n",
       "    <tr>\n",
       "      <th>3</th>\n",
       "      <td>1/1/2015 3:58</td>\n",
       "      <td>8d6823dc52b400b50aebf269bf1f03a36d19eeaa</td>\n",
       "      <td>91cb88c0743761589273fc5e800e7743ece46494</td>\n",
       "      <td>frank</td>\n",
       "      <td>US</td>\n",
       "      <td>iphone_t</td>\n",
       "      <td>League of Legends</td>\n",
       "    </tr>\n",
       "    <tr>\n",
       "      <th>4</th>\n",
       "      <td>1/1/2015 11:47</td>\n",
       "      <td>16c1e39594d62358d27ae604ad43a071f0d86bc4</td>\n",
       "      <td>51a9234f83d656607cfd7f26690c12d2ffbce353</td>\n",
       "      <td>estelle</td>\n",
       "      <td>DE</td>\n",
       "      <td>NaN</td>\n",
       "      <td>Dota 2</td>\n",
       "    </tr>\n",
       "    <tr>\n",
       "      <th>5</th>\n",
       "      <td>1/1/2015 17:59</td>\n",
       "      <td>6fcc75522de37833a0fb21fba4965aad3b63ea57</td>\n",
       "      <td>f628d1cb946ea2e8cffc0b327bc9d77775b8d3c0</td>\n",
       "      <td>jerry</td>\n",
       "      <td>RU</td>\n",
       "      <td>NaN</td>\n",
       "      <td>Dota 2</td>\n",
       "    </tr>\n",
       "    <tr>\n",
       "      <th>6</th>\n",
       "      <td>1/1/2015 2:24</td>\n",
       "      <td>dea94b3030025d837dd841fbfd479e775987f65d</td>\n",
       "      <td>9dbbcf6c7792074771c4c7284807041eac467ad5</td>\n",
       "      <td>elaine</td>\n",
       "      <td>TW</td>\n",
       "      <td>NaN</td>\n",
       "      <td>Gaming Talk Shows</td>\n",
       "    </tr>\n",
       "    <tr>\n",
       "      <th>7</th>\n",
       "      <td>1/1/2015 18:26</td>\n",
       "      <td>671bee0f3d66077876d9bc231990597292392cc2</td>\n",
       "      <td>51c286a41daa8e060275f622f2b8436bee9fab91</td>\n",
       "      <td>jerry</td>\n",
       "      <td>UA</td>\n",
       "      <td>NaN</td>\n",
       "      <td>Dota 2</td>\n",
       "    </tr>\n",
       "    <tr>\n",
       "      <th>8</th>\n",
       "      <td>1/1/2015 13:13</td>\n",
       "      <td>8b31d5ebd1f4f41d4365ae4a471c1686dd256745</td>\n",
       "      <td>06decad1d9565150791e183da017f47123433a4c</td>\n",
       "      <td>estelle</td>\n",
       "      <td>GB</td>\n",
       "      <td>ipad_t</td>\n",
       "      <td>Dota 2</td>\n",
       "    </tr>\n",
       "    <tr>\n",
       "      <th>9</th>\n",
       "      <td>1/1/2015 20:20</td>\n",
       "      <td>f2ebb129e6930e608f2ed3f5fb52bc4d533c4891</td>\n",
       "      <td>4679f8113aa157ba76fc6db5878d7ee625e88d55</td>\n",
       "      <td>frank</td>\n",
       "      <td>CA</td>\n",
       "      <td>NaN</td>\n",
       "      <td>League of Legends</td>\n",
       "    </tr>\n",
       "  </tbody>\n",
       "</table>\n",
       "</div>"
      ],
      "text/plain": [
       "             time                                 devide_id  \\\n",
       "0  1/1/2015 18:45  70e2b95b5ac0d4c227e46966658d16b3e044996e   \n",
       "1   1/1/2015 1:16  f2b9065b55fd80d6aa653ce989b489f4ec5198be   \n",
       "2  1/1/2015 16:22  d448ba963d7e1023dd1b0a40b95d4f6611750692   \n",
       "3   1/1/2015 3:58  8d6823dc52b400b50aebf269bf1f03a36d19eeaa   \n",
       "4  1/1/2015 11:47  16c1e39594d62358d27ae604ad43a071f0d86bc4   \n",
       "5  1/1/2015 17:59  6fcc75522de37833a0fb21fba4965aad3b63ea57   \n",
       "6   1/1/2015 2:24  dea94b3030025d837dd841fbfd479e775987f65d   \n",
       "7  1/1/2015 18:26  671bee0f3d66077876d9bc231990597292392cc2   \n",
       "8  1/1/2015 13:13  8b31d5ebd1f4f41d4365ae4a471c1686dd256745   \n",
       "9  1/1/2015 20:20  f2ebb129e6930e608f2ed3f5fb52bc4d533c4891   \n",
       "\n",
       "                                      login  channel country    player  \\\n",
       "0  5c2f5c1f19a7738e16ed0be551d865e8a8fce71d    jerry      BY       NaN   \n",
       "1  0d77740e4fb5ce77d94f9f6c8ef1f762990d0344   elaine      HK       NaN   \n",
       "2  77ab14c1fb815e1c369ba0cf7d4c56b4fe489997    frank      GB  iphone_t   \n",
       "3  91cb88c0743761589273fc5e800e7743ece46494    frank      US  iphone_t   \n",
       "4  51a9234f83d656607cfd7f26690c12d2ffbce353  estelle      DE       NaN   \n",
       "5  f628d1cb946ea2e8cffc0b327bc9d77775b8d3c0    jerry      RU       NaN   \n",
       "6  9dbbcf6c7792074771c4c7284807041eac467ad5   elaine      TW       NaN   \n",
       "7  51c286a41daa8e060275f622f2b8436bee9fab91    jerry      UA       NaN   \n",
       "8  06decad1d9565150791e183da017f47123433a4c  estelle      GB    ipad_t   \n",
       "9  4679f8113aa157ba76fc6db5878d7ee625e88d55    frank      CA       NaN   \n",
       "\n",
       "                               game  \n",
       "0                            Dota 2  \n",
       "1  Devil May Cry 4: Special Edition  \n",
       "2                 League of Legends  \n",
       "3                 League of Legends  \n",
       "4                            Dota 2  \n",
       "5                            Dota 2  \n",
       "6                 Gaming Talk Shows  \n",
       "7                            Dota 2  \n",
       "8                            Dota 2  \n",
       "9                 League of Legends  "
      ]
     },
     "metadata": {},
     "output_type": "display_data"
    },
    {
     "data": {
      "text/html": [
       "<div>\n",
       "<style scoped>\n",
       "    .dataframe tbody tr th:only-of-type {\n",
       "        vertical-align: middle;\n",
       "    }\n",
       "\n",
       "    .dataframe tbody tr th {\n",
       "        vertical-align: top;\n",
       "    }\n",
       "\n",
       "    .dataframe thead th {\n",
       "        text-align: right;\n",
       "    }\n",
       "</style>\n",
       "<table border=\"1\" class=\"dataframe\">\n",
       "  <thead>\n",
       "    <tr style=\"text-align: right;\">\n",
       "      <th></th>\n",
       "      <th>time</th>\n",
       "      <th>device_id</th>\n",
       "      <th>login</th>\n",
       "      <th>channel</th>\n",
       "      <th>country</th>\n",
       "      <th>player</th>\n",
       "      <th>game</th>\n",
       "      <th>stream_format</th>\n",
       "      <th>subscriber</th>\n",
       "    </tr>\n",
       "  </thead>\n",
       "  <tbody>\n",
       "    <tr>\n",
       "      <th>0</th>\n",
       "      <td>2015-01-01 18:33:52</td>\n",
       "      <td>40ffc2fa6534cf760becbdbf5311e31ad069e46e</td>\n",
       "      <td>085c1eb7b587bfe654f0df7b4ba7f4fc4013636c</td>\n",
       "      <td>frank</td>\n",
       "      <td>US</td>\n",
       "      <td>iphone_t</td>\n",
       "      <td>League of Legends</td>\n",
       "      <td>NaN</td>\n",
       "      <td>NaN</td>\n",
       "    </tr>\n",
       "    <tr>\n",
       "      <th>1</th>\n",
       "      <td>2015-01-01 23:35:33</td>\n",
       "      <td>9a8cc2b7162b99c0a0f501dc9a5ec4f68586a760</td>\n",
       "      <td>5ad49a7b408ce452140b180dd6efb57a9f4d22c7</td>\n",
       "      <td>george</td>\n",
       "      <td>US</td>\n",
       "      <td>site</td>\n",
       "      <td>DayZ</td>\n",
       "      <td>chunked</td>\n",
       "      <td>False</td>\n",
       "    </tr>\n",
       "    <tr>\n",
       "      <th>2</th>\n",
       "      <td>2015-01-01 04:39:38</td>\n",
       "      <td>2f9c3f9ee1033b71a3819564243f20ef3bec0183</td>\n",
       "      <td>5b9a43e68f019185f55615d0b83019dee4b5d06f</td>\n",
       "      <td>frank</td>\n",
       "      <td>US</td>\n",
       "      <td>site</td>\n",
       "      <td>League of Legends</td>\n",
       "      <td>chunked</td>\n",
       "      <td>False</td>\n",
       "    </tr>\n",
       "    <tr>\n",
       "      <th>3</th>\n",
       "      <td>2015-01-01 11:15:30</td>\n",
       "      <td>0cda8226ba2583424c80c3c1c22c1256b080ad17</td>\n",
       "      <td>02c7797faa4d8a3ff4b0c14ee1764b6817b53d0b</td>\n",
       "      <td>estelle</td>\n",
       "      <td>CH</td>\n",
       "      <td>site</td>\n",
       "      <td>Dota 2</td>\n",
       "      <td>high</td>\n",
       "      <td>False</td>\n",
       "    </tr>\n",
       "    <tr>\n",
       "      <th>4</th>\n",
       "      <td>2015-01-01 11:28:19</td>\n",
       "      <td>e3288ca5e3153aa85e32f64cdd994b7666968dcf</td>\n",
       "      <td>b920c228acbcbebee26d9c79f6eb73b73a9480c7</td>\n",
       "      <td>morty</td>\n",
       "      <td>FR</td>\n",
       "      <td>site</td>\n",
       "      <td>Heroes of the Storm</td>\n",
       "      <td>medium</td>\n",
       "      <td>False</td>\n",
       "    </tr>\n",
       "    <tr>\n",
       "      <th>5</th>\n",
       "      <td>2015-01-01 23:27:36</td>\n",
       "      <td>343fe2bfd58595d5c18602d420ecf6f9d694d5a8</td>\n",
       "      <td>7814f661a54349ff5eee84f9d6f476918c9b7270</td>\n",
       "      <td>george</td>\n",
       "      <td>US</td>\n",
       "      <td>iphone_t</td>\n",
       "      <td>DayZ</td>\n",
       "      <td>NaN</td>\n",
       "      <td>NaN</td>\n",
       "    </tr>\n",
       "    <tr>\n",
       "      <th>6</th>\n",
       "      <td>2015-01-01 21:09:23</td>\n",
       "      <td>80a0c7d1abb6a5a0060e18202b77bef831e08ca5</td>\n",
       "      <td>eb158cab3f606d3894a32e20bddbfd2d589095a9</td>\n",
       "      <td>frank</td>\n",
       "      <td>US</td>\n",
       "      <td>site</td>\n",
       "      <td>League of Legends</td>\n",
       "      <td>high</td>\n",
       "      <td>True</td>\n",
       "    </tr>\n",
       "    <tr>\n",
       "      <th>7</th>\n",
       "      <td>2015-01-01 19:14:27</td>\n",
       "      <td>1e342e5e4e228f617449029054b3bb19c5224528</td>\n",
       "      <td>2aaf6a414bc3dc923b04f986de7ba1b8101c6698</td>\n",
       "      <td>frank</td>\n",
       "      <td>CA</td>\n",
       "      <td>site</td>\n",
       "      <td>League of Legends</td>\n",
       "      <td>high</td>\n",
       "      <td>False</td>\n",
       "    </tr>\n",
       "    <tr>\n",
       "      <th>8</th>\n",
       "      <td>2015-01-01 13:51:04</td>\n",
       "      <td>272cffbb1a9a33ad3bb48a2ee9ae5cbcac5ca22e</td>\n",
       "      <td>401716920e3435b5e3eec9fc4ccd6a44c7af38f5</td>\n",
       "      <td>kramer</td>\n",
       "      <td>TR</td>\n",
       "      <td>site</td>\n",
       "      <td>Counter-Strike: Global Offensive</td>\n",
       "      <td>chunked</td>\n",
       "      <td>False</td>\n",
       "    </tr>\n",
       "    <tr>\n",
       "      <th>9</th>\n",
       "      <td>2015-01-01 22:00:14</td>\n",
       "      <td>593ed161c456eeeb9e18b8005786d42abc1a7373</td>\n",
       "      <td>ef24dc49ceb4bcd3cccb0fa862d8a150ecf935e1</td>\n",
       "      <td>frank</td>\n",
       "      <td>US</td>\n",
       "      <td>site</td>\n",
       "      <td>League of Legends</td>\n",
       "      <td>medium</td>\n",
       "      <td>False</td>\n",
       "    </tr>\n",
       "  </tbody>\n",
       "</table>\n",
       "</div>"
      ],
      "text/plain": [
       "                  time                                 device_id  \\\n",
       "0  2015-01-01 18:33:52  40ffc2fa6534cf760becbdbf5311e31ad069e46e   \n",
       "1  2015-01-01 23:35:33  9a8cc2b7162b99c0a0f501dc9a5ec4f68586a760   \n",
       "2  2015-01-01 04:39:38  2f9c3f9ee1033b71a3819564243f20ef3bec0183   \n",
       "3  2015-01-01 11:15:30  0cda8226ba2583424c80c3c1c22c1256b080ad17   \n",
       "4  2015-01-01 11:28:19  e3288ca5e3153aa85e32f64cdd994b7666968dcf   \n",
       "5  2015-01-01 23:27:36  343fe2bfd58595d5c18602d420ecf6f9d694d5a8   \n",
       "6  2015-01-01 21:09:23  80a0c7d1abb6a5a0060e18202b77bef831e08ca5   \n",
       "7  2015-01-01 19:14:27  1e342e5e4e228f617449029054b3bb19c5224528   \n",
       "8  2015-01-01 13:51:04  272cffbb1a9a33ad3bb48a2ee9ae5cbcac5ca22e   \n",
       "9  2015-01-01 22:00:14  593ed161c456eeeb9e18b8005786d42abc1a7373   \n",
       "\n",
       "                                      login  channel country    player  \\\n",
       "0  085c1eb7b587bfe654f0df7b4ba7f4fc4013636c    frank      US  iphone_t   \n",
       "1  5ad49a7b408ce452140b180dd6efb57a9f4d22c7   george      US      site   \n",
       "2  5b9a43e68f019185f55615d0b83019dee4b5d06f    frank      US      site   \n",
       "3  02c7797faa4d8a3ff4b0c14ee1764b6817b53d0b  estelle      CH      site   \n",
       "4  b920c228acbcbebee26d9c79f6eb73b73a9480c7    morty      FR      site   \n",
       "5  7814f661a54349ff5eee84f9d6f476918c9b7270   george      US  iphone_t   \n",
       "6  eb158cab3f606d3894a32e20bddbfd2d589095a9    frank      US      site   \n",
       "7  2aaf6a414bc3dc923b04f986de7ba1b8101c6698    frank      CA      site   \n",
       "8  401716920e3435b5e3eec9fc4ccd6a44c7af38f5   kramer      TR      site   \n",
       "9  ef24dc49ceb4bcd3cccb0fa862d8a150ecf935e1    frank      US      site   \n",
       "\n",
       "                               game stream_format subscriber  \n",
       "0                 League of Legends           NaN        NaN  \n",
       "1                              DayZ       chunked      False  \n",
       "2                 League of Legends       chunked      False  \n",
       "3                            Dota 2          high      False  \n",
       "4               Heroes of the Storm        medium      False  \n",
       "5                              DayZ           NaN        NaN  \n",
       "6                 League of Legends          high       True  \n",
       "7                 League of Legends          high      False  \n",
       "8  Counter-Strike: Global Offensive       chunked      False  \n",
       "9                 League of Legends        medium      False  "
      ]
     },
     "metadata": {},
     "output_type": "display_data"
    }
   ],
   "source": [
    "display(chat.head(10))\n",
    "display(stream.head(10))"
   ]
  },
  {
   "cell_type": "code",
   "execution_count": 27,
   "metadata": {},
   "outputs": [
    {
     "data": {
      "text/plain": [
       "array(['League of Legends', 'DayZ', 'Dota 2', 'Heroes of the Storm',\n",
       "       'Counter-Strike: Global Offensive',\n",
       "       'Hearthstone: Heroes of Warcraft', 'The Binding of Isaac: Rebirth',\n",
       "       'Agar.io', 'Gaming Talk Shows', nan, 'Rocket League',\n",
       "       'World of Tanks', 'ARK: Survival Evolved', 'SpeedRunners',\n",
       "       'Breaking Point', 'Duck Game', 'Devil May Cry 4: Special Edition',\n",
       "       'Block N Load', 'Fallout 3', 'Batman: Arkham Knight',\n",
       "       'Reign Of Kings', 'The Witcher 3: Wild Hunt',\n",
       "       'The Elder Scrolls V: Skyrim', 'Super Mario Bros.', 'H1Z1',\n",
       "       'The Last of Us', 'Depth', 'Mortal Kombat X',\n",
       "       'Senran Kagura: Estival Versus', 'The Sims 4',\n",
       "       'You Must Build A Boat', 'Choice Chamber', 'Music', 'Risk of Rain',\n",
       "       'Grand Theft Auto V', 'Besiege', 'Super Mario Bros. 3', 'Hektor',\n",
       "       'Bridge Constructor Medieval', 'Lucius', 'Blackjack',\n",
       "       'Cities: Skylines'], dtype=object)"
      ]
     },
     "execution_count": 27,
     "metadata": {},
     "output_type": "execute_result"
    }
   ],
   "source": [
    "# What are unique Games in Stream Table\n",
    "stream.game.unique()"
   ]
  },
  {
   "cell_type": "code",
   "execution_count": 28,
   "metadata": {},
   "outputs": [
    {
     "data": {
      "text/plain": [
       "array(['frank', 'george', 'estelle', 'morty', 'kramer', 'jerry', 'helen',\n",
       "       'newman', 'elaine', 'susan'], dtype=object)"
      ]
     },
     "execution_count": 28,
     "metadata": {},
     "output_type": "execute_result"
    }
   ],
   "source": [
    "# What are unique Channels in the stream table\n",
    "stream.channel.unique()"
   ]
  },
  {
   "cell_type": "code",
   "execution_count": 30,
   "metadata": {},
   "outputs": [
    {
     "data": {
      "text/html": [
       "<div>\n",
       "<style scoped>\n",
       "    .dataframe tbody tr th:only-of-type {\n",
       "        vertical-align: middle;\n",
       "    }\n",
       "\n",
       "    .dataframe tbody tr th {\n",
       "        vertical-align: top;\n",
       "    }\n",
       "\n",
       "    .dataframe thead th {\n",
       "        text-align: right;\n",
       "    }\n",
       "</style>\n",
       "<table border=\"1\" class=\"dataframe\">\n",
       "  <thead>\n",
       "    <tr style=\"text-align: right;\">\n",
       "      <th></th>\n",
       "      <th>game</th>\n",
       "      <th>count</th>\n",
       "    </tr>\n",
       "  </thead>\n",
       "  <tbody>\n",
       "    <tr>\n",
       "      <th>0</th>\n",
       "      <td>League of Legends</td>\n",
       "      <td>193533</td>\n",
       "    </tr>\n",
       "    <tr>\n",
       "      <th>1</th>\n",
       "      <td>Dota 2</td>\n",
       "      <td>85608</td>\n",
       "    </tr>\n",
       "    <tr>\n",
       "      <th>2</th>\n",
       "      <td>Counter-Strike: Global Offensive</td>\n",
       "      <td>54438</td>\n",
       "    </tr>\n",
       "    <tr>\n",
       "      <th>3</th>\n",
       "      <td>DayZ</td>\n",
       "      <td>38004</td>\n",
       "    </tr>\n",
       "    <tr>\n",
       "      <th>4</th>\n",
       "      <td>Heroes of the Storm</td>\n",
       "      <td>35310</td>\n",
       "    </tr>\n",
       "    <tr>\n",
       "      <th>5</th>\n",
       "      <td>The Binding of Isaac: Rebirth</td>\n",
       "      <td>29467</td>\n",
       "    </tr>\n",
       "    <tr>\n",
       "      <th>6</th>\n",
       "      <td>Gaming Talk Shows</td>\n",
       "      <td>28115</td>\n",
       "    </tr>\n",
       "    <tr>\n",
       "      <th>7</th>\n",
       "      <td>World of Tanks</td>\n",
       "      <td>15932</td>\n",
       "    </tr>\n",
       "    <tr>\n",
       "      <th>8</th>\n",
       "      <td>Hearthstone: Heroes of Warcraft</td>\n",
       "      <td>14399</td>\n",
       "    </tr>\n",
       "    <tr>\n",
       "      <th>9</th>\n",
       "      <td>Agar.io</td>\n",
       "      <td>11480</td>\n",
       "    </tr>\n",
       "  </tbody>\n",
       "</table>\n",
       "</div>"
      ],
      "text/plain": [
       "                               game   count\n",
       "0                 League of Legends  193533\n",
       "1                            Dota 2   85608\n",
       "2  Counter-Strike: Global Offensive   54438\n",
       "3                              DayZ   38004\n",
       "4               Heroes of the Storm   35310\n",
       "5     The Binding of Isaac: Rebirth   29467\n",
       "6                 Gaming Talk Shows   28115\n",
       "7                    World of Tanks   15932\n",
       "8   Hearthstone: Heroes of Warcraft   14399\n",
       "9                           Agar.io   11480"
      ]
     },
     "execution_count": 30,
     "metadata": {},
     "output_type": "execute_result"
    }
   ],
   "source": [
    "# What are the most popular games in the stream table?\n",
    "\n",
    "# Create a new DataFrame with just group count info:\n",
    "stream.groupby(['game']).size().nlargest(10).reset_index(name=\"count\")\n",
    "\n",
    "\n"
   ]
  },
  {
   "cell_type": "code",
   "execution_count": 32,
   "metadata": {},
   "outputs": [
    {
     "data": {
      "text/html": [
       "<div>\n",
       "<style scoped>\n",
       "    .dataframe tbody tr th:only-of-type {\n",
       "        vertical-align: middle;\n",
       "    }\n",
       "\n",
       "    .dataframe tbody tr th {\n",
       "        vertical-align: top;\n",
       "    }\n",
       "\n",
       "    .dataframe thead th {\n",
       "        text-align: right;\n",
       "    }\n",
       "</style>\n",
       "<table border=\"1\" class=\"dataframe\">\n",
       "  <thead>\n",
       "    <tr style=\"text-align: right;\">\n",
       "      <th></th>\n",
       "      <th>country</th>\n",
       "      <th>count</th>\n",
       "    </tr>\n",
       "  </thead>\n",
       "  <tbody>\n",
       "    <tr>\n",
       "      <th>0</th>\n",
       "      <td>US</td>\n",
       "      <td>85606</td>\n",
       "    </tr>\n",
       "    <tr>\n",
       "      <th>1</th>\n",
       "      <td>CA</td>\n",
       "      <td>13034</td>\n",
       "    </tr>\n",
       "    <tr>\n",
       "      <th>2</th>\n",
       "      <td>DE</td>\n",
       "      <td>10835</td>\n",
       "    </tr>\n",
       "    <tr>\n",
       "      <th>3</th>\n",
       "      <td>GB</td>\n",
       "      <td>6964</td>\n",
       "    </tr>\n",
       "    <tr>\n",
       "      <th>4</th>\n",
       "      <td>TR</td>\n",
       "      <td>4412</td>\n",
       "    </tr>\n",
       "    <tr>\n",
       "      <th>5</th>\n",
       "      <td>AU</td>\n",
       "      <td>3911</td>\n",
       "    </tr>\n",
       "    <tr>\n",
       "      <th>6</th>\n",
       "      <td>SE</td>\n",
       "      <td>3533</td>\n",
       "    </tr>\n",
       "    <tr>\n",
       "      <th>7</th>\n",
       "      <td>NL</td>\n",
       "      <td>3213</td>\n",
       "    </tr>\n",
       "    <tr>\n",
       "      <th>8</th>\n",
       "      <td>DK</td>\n",
       "      <td>2909</td>\n",
       "    </tr>\n",
       "    <tr>\n",
       "      <th>9</th>\n",
       "      <td>GR</td>\n",
       "      <td>2885</td>\n",
       "    </tr>\n",
       "  </tbody>\n",
       "</table>\n",
       "</div>"
      ],
      "text/plain": [
       "  country  count\n",
       "0      US  85606\n",
       "1      CA  13034\n",
       "2      DE  10835\n",
       "3      GB   6964\n",
       "4      TR   4412\n",
       "5      AU   3911\n",
       "6      SE   3533\n",
       "7      NL   3213\n",
       "8      DK   2909\n",
       "9      GR   2885"
      ]
     },
     "execution_count": 32,
     "metadata": {},
     "output_type": "execute_result"
    }
   ],
   "source": [
    "stream[stream[\"game\"]==\"League of Legends\"].groupby([\"country\"]).size().nlargest(10).reset_index(name=\"count\")"
   ]
  },
  {
   "cell_type": "code",
   "execution_count": 38,
   "metadata": {},
   "outputs": [
    {
     "data": {
      "text/plain": [
       "US    85606\n",
       "CA    13034\n",
       "DE    10835\n",
       "GB     6964\n",
       "TR     4412\n",
       "      ...  \n",
       "SN        1\n",
       "AD        1\n",
       "SC        1\n",
       "SM        1\n",
       "NC        1\n",
       "Name: country, Length: 155, dtype: int64"
      ]
     },
     "execution_count": 38,
     "metadata": {},
     "output_type": "execute_result"
    }
   ],
   "source": [
    "stream[stream[\"game\"]==\"League of Legends\"][\"country\"].value_counts()"
   ]
  },
  {
   "cell_type": "code",
   "execution_count": 39,
   "metadata": {},
   "outputs": [
    {
     "data": {
      "text/plain": [
       "site             246115\n",
       "iphone_t         100689\n",
       "android           93508\n",
       "ipad_t            53646\n",
       "embed             19819\n",
       "xbox_one           4863\n",
       "home               3479\n",
       "frontpage          1567\n",
       "amazon             1155\n",
       "xbox360             985\n",
       "roku                233\n",
       "chromecast          149\n",
       "facebook             83\n",
       "nvidia shield         3\n",
       "ouya                  3\n",
       "android_pip           2\n",
       "Name: player, dtype: int64"
      ]
     },
     "execution_count": 39,
     "metadata": {},
     "output_type": "execute_result"
    }
   ],
   "source": [
    "# Create a list of players and number of streamers\n",
    "stream[\"player\"].value_counts()"
   ]
  },
  {
   "cell_type": "code",
   "execution_count": 57,
   "metadata": {},
   "outputs": [
    {
     "name": "stderr",
     "output_type": "stream",
     "text": [
      "C:\\Users\\ranaa\\Anaconda3\\envs\\py37\\lib\\site-packages\\ipykernel_launcher.py:12: MatplotlibDeprecationWarning: Adding an axes using the same arguments as a previous axes currently reuses the earlier instance.  In a future version, a new instance will always be created and returned.  Meanwhile, this warning can be suppressed, and the future behavior ensured, by passing a unique label to each axes instance.\n",
      "  if sys.path[0] == '':\n"
     ]
    },
    {
     "data": {
      "image/png": "[encoded data removed]",
      "text/plain": [
       "<Figure size 432x288 with 1 Axes>"
      ]
     },
     "metadata": {
      "needs_background": "light"
     },
     "output_type": "display_data"
    },
    {
     "data": {
      "text/plain": [
       "<Figure size 432x288 with 0 Axes>"
      ]
     },
     "metadata": {},
     "output_type": "display_data"
    }
   ],
   "source": [
    "games = [\"LoL\", \"Dota 2\", \"CS:GO\", \"DayZ\", \"HOS\", \"Isaac\", \"Shows\", \"Hearth\", \"WoT\", \"Agar.io\"]\n",
    "\n",
    "viewers =  [1070, 472, 302, 239, 210, 171, 170, 90, 86, 71]\n",
    "\n",
    "plt.bar(range(len(games)), viewers, color='slateblue')\n",
    "\n",
    "plt.legend([\"Twitch\"])\n",
    "\n",
    "plt.xlabel('Games')\n",
    "plt.ylabel('Viewers')\n",
    "\n",
    "ax = plt.subplot()\n",
    "\n",
    "ax.set_xticks(range(0, 10))\n",
    "\n",
    "ax.set_xticklabels(games, rotation=30)\n",
    "\n",
    "plt.show()\n",
    "\n",
    "# We can add plt.clf() to clear the current figure, our bar graph, before creating our next figure, the pie chart\n",
    "\n",
    "plt.clf()"
   ]
  },
  {
   "cell_type": "code",
   "execution_count": 60,
   "metadata": {},
   "outputs": [],
   "source": [
    "labels = [\"US\", \"DE\", \"CA\", \"N/A\", \"GB\", \"TR\", \"BR\", \"DK\", \"PL\", \"BE\", \"NL\", \"Others\"]\n",
    "\n",
    "countries = [447, 66, 64, 49, 45, 28, 25, 20, 19, 17, 17, 279]\n",
    "\n",
    "# Lets add some color\n",
    "colors = ['lightskyblue', 'gold', 'lightcoral', 'gainsboro', 'royalblue', 'lightpink', 'darkseagreen', 'sienna', 'khaki', 'gold', 'violet', 'yellowgreen']"
   ]
  },
  {
   "cell_type": "code",
   "execution_count": 62,
   "metadata": {},
   "outputs": [
    {
     "data": {
      "image/png": "[encoded data removed]",
      "text/plain": [
       "<Figure size 432x288 with 1 Axes>"
      ]
     },
     "metadata": {},
     "output_type": "display_data"
    }
   ],
   "source": [
    "#Pie chart\n",
    "plt.pie(countries,colors=colors)\n",
    "plt.show()"
   ]
  },
  {
   "cell_type": "markdown",
   "metadata": {},
   "source": [
    "Let’s make it more visually appealing and more informative.\n",
    "\n",
    "First, let’s “explode”, or break out, the 1st slice (United States):"
   ]
  },
  {
   "cell_type": "code",
   "execution_count": 67,
   "metadata": {},
   "outputs": [],
   "source": [
    "explode = (0.2, 0, 0, 0, 0, 0, 0, 0, 0, 0, 0, 0)"
   ]
  },
  {
   "cell_type": "code",
   "execution_count": 70,
   "metadata": {},
   "outputs": [
    {
     "data": {
      "image/png": "[encoded data removed]",
      "text/plain": [
       "<Figure size 432x288 with 1 Axes>"
      ]
     },
     "metadata": {},
     "output_type": "display_data"
    },
    {
     "data": {
      "text/plain": [
       "<Figure size 432x288 with 0 Axes>"
      ]
     },
     "metadata": {},
     "output_type": "display_data"
    }
   ],
   "source": [
    "plt.pie(countries, explode=explode, colors=colors, shadow=True, startangle=345, autopct='%1.0f%%', pctdistance=1.15)\n",
    "plt.title(\"League of Legends Viewers' Whereabouts\")\n",
    "plt.legend(labels, loc=\"right\")\n",
    "plt.show()\n",
    "plt.clf()"
   ]
  },
  {
   "cell_type": "code",
   "execution_count": 72,
   "metadata": {},
   "outputs": [
    {
     "name": "stderr",
     "output_type": "stream",
     "text": [
      "C:\\Users\\ranaa\\Anaconda3\\envs\\py37\\lib\\site-packages\\ipykernel_launcher.py:19: MatplotlibDeprecationWarning: Adding an axes using the same arguments as a previous axes currently reuses the earlier instance.  In a future version, a new instance will always be created and returned.  Meanwhile, this warning can be suppressed, and the future behavior ensured, by passing a unique label to each axes instance.\n"
     ]
    },
    {
     "data": {
      "image/png": "[encoded data removed]",
      "text/plain": [
       "<Figure size 432x288 with 1 Axes>"
      ]
     },
     "metadata": {
      "needs_background": "light"
     },
     "output_type": "display_data"
    }
   ],
   "source": [
    "# Time series Analysis\n",
    "from matplotlib import pyplot as plt\n",
    "import numpy as np\n",
    "import pandas as pd\n",
    "\n",
    "hour = range(24)\n",
    "\n",
    "viewers_hour = [30, 17, 34, 29, 19, 14, 3, 2, 4, 9, 5, 48, 62, 58, 40, 51, 69, 55, 76, 81, 102, 120, 71, 63]\n",
    "\n",
    "plt.title(\"Time Series\")\n",
    "\n",
    "plt.xlabel(\"Hour\")\n",
    "plt.ylabel(\"Viewers\")\n",
    "\n",
    "plt.plot(hour, viewers_hour)\n",
    "\n",
    "plt.legend(['2015-01-01'])\n",
    "\n",
    "ax = plt.subplot()\n",
    "\n",
    "ax.set_xticks(hour)\n",
    "ax.set_yticks([0, 20, 40, 60, 80, 100, 120, 140])\n",
    "\n",
    "y_upper = [i + (i*0.15) for i in viewers_hour]\n",
    "y_lower = [i - (i*0.15) for i in viewers_hour]\n",
    "\n",
    "plt.fill_between(hour, y_lower, y_upper, alpha=0.2)\n",
    "\n",
    "\n",
    "plt.show()"
   ]
  },
  {
   "cell_type": "code",
   "execution_count": 74,
   "metadata": {},
   "outputs": [
    {
     "data": {
      "text/plain": [
       "<matplotlib.collections.PolyCollection at 0x1795b161048>"
      ]
     },
     "execution_count": 74,
     "metadata": {},
     "output_type": "execute_result"
    },
    {
     "data": {
      "image/png": "[encoded data removed]",
      "text/plain": [
       "<Figure size 432x288 with 1 Axes>"
      ]
     },
     "metadata": {
      "needs_background": "light"
     },
     "output_type": "display_data"
    }
   ],
   "source": [
    "y_upper = [i + (i*0.15) for i in viewers_hour]\n",
    "y_lower = [i - (i*0.15) for i in viewers_hour]\n",
    "plt.fill_between(hour, y_lower, y_upper, alpha=0.2)"
   ]
  },
  {
   "cell_type": "code",
   "execution_count": 75,
   "metadata": {},
   "outputs": [
    {
     "name": "stderr",
     "output_type": "stream",
     "text": [
      "C:\\Users\\ranaa\\Anaconda3\\envs\\py37\\lib\\site-packages\\ipykernel_launcher.py:14: MatplotlibDeprecationWarning: Adding an axes using the same arguments as a previous axes currently reuses the earlier instance.  In a future version, a new instance will always be created and returned.  Meanwhile, this warning can be suppressed, and the future behavior ensured, by passing a unique label to each axes instance.\n",
      "  \n"
     ]
    },
    {
     "data": {
      "image/png": "[encoded data removed]",
      "text/plain": [
       "<Figure size 432x288 with 1 Axes>"
      ]
     },
     "metadata": {
      "needs_background": "light"
     },
     "output_type": "display_data"
    }
   ],
   "source": [
    "hour = range(24)\n",
    "\n",
    "viewers_hour = [30, 17, 34, 29, 19, 14, 3, 2, 4, 9, 5, 48, 62, 58, 40, 51, 69, 55, 76, 81, 102, 120, 71, 63]\n",
    "\n",
    "plt.title(\"Time Series\")\n",
    "\n",
    "plt.xlabel(\"Hour\")\n",
    "plt.ylabel(\"Viewers\")\n",
    "\n",
    "plt.plot(hour, viewers_hour)\n",
    "\n",
    "plt.legend(['2015-01-01'])\n",
    "\n",
    "ax = plt.subplot()\n",
    "\n",
    "ax.set_xticks(hour)\n",
    "ax.set_yticks([0, 20, 40, 60, 80, 100, 120])\n",
    "\n",
    "y_upper = [i + (i*0.15) for i in viewers_hour]\n",
    "y_lower = [i - (i*0.15) for i in viewers_hour]\n",
    "\n",
    "plt.fill_between(hour, y_lower, y_upper, alpha=0.2)\n",
    "\n",
    "plt.show()"
   ]
  }
 ],
 "metadata": {
  "kernelspec": {
   "display_name": "Python 3",
   "language": "python",
   "name": "python3"
  },
  "language_info": {
   "codemirror_mode": {
    "name": "ipython",
    "version": 3
   },
   "file_extension": ".py",
   "mimetype": "text/x-python",
   "name": "python",
   "nbconvert_exporter": "python",
   "pygments_lexer": "ipython3",
   "version": "3.7.6"
  }
 },
 "nbformat": 4,
 "nbformat_minor": 4
}
